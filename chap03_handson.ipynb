{
  "cells": [
    {
      "cell_type": "markdown",
      "metadata": {
        "id": "C1liFm5fLPqu"
      },
      "source": [
        "# はじめてのPython入門\n",
        "## 第3章　Pythonでデータ分析をしてみよう！　ハンズオン\n",
        "<div align=\"right\">\n",
        "タナカケンタ<br/>\n",
        "https://mana.bi/\n",
        "</div>\n",
        "\n",
        "### 3.4　演習: Pythonで探索的データ解析\n",
        "\n",
        "ここでは、Pythonと各種ライブラリを使って、探索的データ解析 (EDA; Exploratory Data Analysis) を行います。探索的データ解析とは、手元にあるデータを、さまざまな観点から集計、可視化して観察することで、データの特徴やデータどうしの関係性を理解しようとするアプローチです。\n",
        "\n",
        "のちほど取り上げる、機械学習などを使った高度な分析を行う前に、分析の方向性や適用する手法を決めるために重要なアプローチです。\n",
        "\n",
        "今回は、データ分析の練習・学習用によく使われる、[レンタル自転車の利用状況に関するデータセット](https://archive.ics.uci.edu/ml/datasets/bike+sharing+dataset)を用います。このデータは、日別と1時間ごとの集計データの2つがあります。まずは、日別のデータを観察してみましょう。\n",
        "\n",
        "はじめに、Googleドライブをマウントし、探索的データ解析に使用するライブラリを読み込みます。"
      ]
    },
    {
      "cell_type": "code",
      "execution_count": null,
      "metadata": {
        "id": "gSnBsD6qLgxx"
      },
      "outputs": [],
      "source": [
        "from google.colab import drive\n",
        "drive.mount('/content/drive')"
      ]
    },
    {
      "cell_type": "code",
      "execution_count": null,
      "metadata": {
        "id": "VOH_dCcFLPq5"
      },
      "outputs": [],
      "source": [
        "import numpy as np\n",
        "import pandas as pd\n",
        "import matplotlib.pyplot as plt\n",
        "import matplotlib.dates as mdates"
      ]
    },
    {
      "cell_type": "markdown",
      "metadata": {
        "id": "-8yEI4peLPq7"
      },
      "source": [
        "次に、データファイルを読み込みます。"
      ]
    },
    {
      "cell_type": "code",
      "execution_count": null,
      "metadata": {
        "id": "cm_v0TKbLPq7"
      },
      "outputs": [],
      "source": [
        "df = pd.read_csv('/content/drive/MyDrive/zeropy/chap03/day.csv')\n",
        "df.head()"
      ]
    },
    {
      "cell_type": "markdown",
      "metadata": {
        "id": "b7-UgU3hLPq8"
      },
      "source": [
        "ここから、データの観察をしていきましょう。まず、データフレーム全体の情報を確認します。Pandasでは、`info()` メソッドでデータフレーム全体の情報を出力できます。"
      ]
    },
    {
      "cell_type": "code",
      "execution_count": null,
      "metadata": {
        "id": "XXHRb6hiLPq8"
      },
      "outputs": [],
      "source": [
        "df.info()"
      ]
    },
    {
      "cell_type": "markdown",
      "metadata": {
        "id": "YEKBWrhRLPq8"
      },
      "source": [
        "どのような列があり、それぞれの列がどのような型であるかがわかります。なお、Pandasデータフレームにおける `object` 型は、主に文字列が格納されていることを意味します。\n",
        "\n",
        "### 単純集計\n",
        "\n",
        "まず、いくつかの列について、全行を合計した数量を求めます。データフレームの列の値を合計するには、2章でも紹介した `sum()` メソッドを使います。\n",
        "\n",
        "ここでは、自転車の利用者数をあらわす、`casual` (一時利用者)、`registered` (定期利用者)、`cnt` (合計) について、合計を算出します。"
      ]
    },
    {
      "cell_type": "code",
      "execution_count": null,
      "metadata": {
        "id": "jBbH5v0TX7Vd"
      },
      "outputs": [],
      "source": [
        "df[['casual', 'registered', 'cnt']].sum()"
      ]
    },
    {
      "cell_type": "markdown",
      "metadata": {
        "id": "PgPJ5Bx6YClN"
      },
      "source": [
        "1年を通じての利用数は、一時利用者が約62万件、定期利用者が約267万件ということがわかり、このサービスは定期的に利用するユーザーが多いようです。\n",
        "\n",
        "### グループ化集計 (クロス集計)\n",
        "\n",
        "次に、いくつかの条件ごとに、利用者数の合計や平均が異なるのかを見てみましょう。まず、`yr` という変数は、0が2011年、1が2012年のデータであることをあらわしています。2011年と2012年で利用者数にどのくらいの差があるかを見てみましょう。\n",
        "\n",
        "Pandasでは、`groupby()` メソッドで集計軸を指定し、続けて集計関数を指定できます。"
      ]
    },
    {
      "cell_type": "code",
      "execution_count": null,
      "metadata": {
        "id": "2IZMPbLAhkCX"
      },
      "outputs": [],
      "source": [
        "df[['yr', 'casual', 'registered', 'cnt']].groupby('yr').sum()"
      ]
    },
    {
      "cell_type": "markdown",
      "metadata": {
        "id": "5p7utM2OhnZn"
      },
      "source": [
        "2011年から2012年にかけて、利用者が増加し、ビジネスが拡大していることがわかります。次に、`season` 列は季節をあらわす変数で、1: 冬、2: 春、3: 夏、4: 秋と表現されています。季節ごとの利用者数の合計と、それぞれの季節における1日の平均利用者数を見てみましょう。"
      ]
    },
    {
      "cell_type": "code",
      "execution_count": null,
      "metadata": {
        "id": "6D_7e6IBlSl5"
      },
      "outputs": [],
      "source": [
        "df[['season', 'casual', 'registered', 'cnt']].groupby('season').sum()"
      ]
    },
    {
      "cell_type": "code",
      "execution_count": null,
      "metadata": {
        "id": "IEKI5coAlaNs"
      },
      "outputs": [],
      "source": [
        "df[['season', 'casual', 'registered', 'cnt']].groupby('season').mean()"
      ]
    },
    {
      "cell_type": "markdown",
      "metadata": {
        "id": "K-Q76qJJlf9j"
      },
      "source": [
        "季節別に見ると、春 (2) と夏 (3) の利用者が多い傾向にあります。\n",
        "\n",
        "また、`casual` ユーザーは季節によって大きく増減するようです。秋冬に急に自転車に乗りたくなることは少ないと考えられます。一方、`registered` ユーザーはそれほど極端な増減はなく、定期利用者は年間を通じて自転車を利用する傾向にあるようです。\n",
        "\n",
        "他にも、`workingday` (平日が1、土日祝日が0) や `weathersit` (晴れ / 多少の曇りが1、小雨・霧雨が2、雨・雪・雷が3、大雨・雷雨・ひょうなどが4) など、グループ化して集計することで、利用者の動向が読み取れる情報があるので、ぜひいろいろな観点での集計をしてみましょう。\n",
        "\n",
        "### データの可視化\n",
        "\n",
        "続いて、データを可視化 (グラフ化) してみましょう。Pythonでは、Matplotlibライブラリを使用するのが標準的です。PandasとMatplotlibは連携していて、Pandasデータフレームの `plot()` メソッドや `hist()` メソッドなどで、Matplotlibを呼び出してグラフィックスを作成できます。\n",
        "\n",
        "ここでは、まず1日ごとの利用者数の合計 (`cnt`) を棒グラフにしてみましょう。"
      ]
    },
    {
      "cell_type": "code",
      "execution_count": null,
      "metadata": {
        "id": "rDA9GGdctv7M"
      },
      "outputs": [],
      "source": [
        "fig,ax = plt.subplots(figsize=(16, 8))\n",
        "plt.plot(pd.to_datetime(df['dteday'], format='%Y-%m'), df['cnt']);"
      ]
    },
    {
      "cell_type": "markdown",
      "metadata": {
        "id": "0UdskMN_tKWS"
      },
      "source": [
        "全体として上昇傾向にありますが、突発的に利用者が少ない日があることがわかります。次に、気温 `temp` と利用者数の関係性について見てみましょう。"
      ]
    },
    {
      "cell_type": "code",
      "execution_count": null,
      "metadata": {
        "id": "725MH4PRt7wX"
      },
      "outputs": [],
      "source": [
        "fig,ax = plt.subplots(figsize=(16, 8))\n",
        "plt.scatter(df['cnt'], df['temp']);"
      ]
    },
    {
      "cell_type": "markdown",
      "metadata": {
        "id": "WolLZWgSu9Nn"
      },
      "source": [
        "気温と利用者数の間には、正の相関関係がありそうです。相関係数も算出してみましょう。"
      ]
    },
    {
      "cell_type": "code",
      "execution_count": null,
      "metadata": {
        "id": "Bzi07h-xxiaA"
      },
      "outputs": [],
      "source": [
        "df.loc[:, ['cnt', 'temp']].corr()"
      ]
    },
    {
      "cell_type": "markdown",
      "metadata": {
        "id": "XOdcC1JO3jak"
      },
      "source": [
        "### Sweetvizライブラリによる探索的データ解析\n",
        "\n",
        "探索的データ解析を、PandasやMatplotlibの機能を使って行うことができますが、別の選択肢として、探索的データ解析に特化したライブラリを活用するアプローチがあります。\n",
        "\n",
        "[Sweetviz](https://github.com/fbdesignpro/sweetviz)ライブラリは、マウス操作で多様な観点での観察ができます。Colabの中に表示することもできます。以下に例を示します。"
      ]
    },
    {
      "cell_type": "code",
      "execution_count": null,
      "metadata": {
        "id": "yPDijov82Oyc"
      },
      "outputs": [],
      "source": [
        "% pip install sweetviz"
      ]
    },
    {
      "cell_type": "code",
      "execution_count": null,
      "metadata": {
        "id": "HkFUjNbi6yAF"
      },
      "outputs": [],
      "source": [
        "import sweetviz as sv\n",
        "report = sv.analyze(df)\n",
        "report.show_notebook()"
      ]
    },
    {
      "cell_type": "markdown",
      "metadata": {
        "id": "R3a9krmhAXc6"
      },
      "source": [
        "2値の変数を集計軸にして、他の変数を集計した結果も出力できます。ここでは、`yr` 列を集計軸としてみます。"
      ]
    },
    {
      "cell_type": "code",
      "execution_count": null,
      "metadata": {
        "id": "E-Tv6TzN7OMd"
      },
      "outputs": [],
      "source": [
        "report2 = sv.compare_intra(df, df['yr'] == 0, ['2011年', '2012年'])\n",
        "report2.show_notebook()"
      ]
    }
  ],
  "metadata": {
    "colab": {
      "collapsed_sections": [],
      "name": "chap03_handson.ipynb",
      "provenance": []
    },
    "kernelspec": {
      "display_name": "Python 3.9.7 64-bit",
      "language": "python",
      "name": "python3"
    },
    "language_info": {
      "name": "python",
      "version": "3.9.7"
    },
    "orig_nbformat": 4,
    "vscode": {
      "interpreter": {
        "hash": "e7370f93d1d0cde622a1f8e1c04877d8463912d04d973331ad4851f04de6915a"
      }
    }
  },
  "nbformat": 4,
  "nbformat_minor": 0
}
