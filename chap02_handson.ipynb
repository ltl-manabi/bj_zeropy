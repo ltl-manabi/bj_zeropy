{
 "cells": [
  {
   "cell_type": "markdown",
   "metadata": {},
   "source": [
    "# はじめてのPython入門\n",
    "## 第2章　Pythonの基本的なルールを学ぼう！　ハンズオン\n",
    "<div align=\"right\">\n",
    "タナカケンタ<br/>\n",
    "https://mana.bi/\n",
    "</div>"
   ]
  },
  {
   "cell_type": "markdown",
   "metadata": {},
   "source": [
    "### 2.3　Notebookの基本操作\n",
    "\n",
    "以下の指示に従い、Notebookを操作してください。"
   ]
  },
  {
   "cell_type": "markdown",
   "metadata": {},
   "source": [
    "### 2.4　Pythonを対話的に使ってみよう\n",
    "\n",
    "以下のセルを実行してください。\n",
    "\n",
    "#### 2.4.1　はじめてのPythonプログラミング: print() 関数"
   ]
  },
  {
   "cell_type": "code",
   "execution_count": null,
   "metadata": {},
   "outputs": [],
   "source": [
    "print('Hello, World!')"
   ]
  },
  {
   "cell_type": "markdown",
   "metadata": {},
   "source": [
    "#### 2.4.2　はじめてのPythonプログラミング: 変数の作成"
   ]
  },
  {
   "cell_type": "code",
   "execution_count": null,
   "metadata": {},
   "outputs": [],
   "source": [
    "a = 200\n",
    "b = 'はじめてのPython'"
   ]
  },
  {
   "cell_type": "code",
   "execution_count": null,
   "metadata": {},
   "outputs": [],
   "source": [
    "a"
   ]
  },
  {
   "cell_type": "code",
   "execution_count": null,
   "metadata": {},
   "outputs": [],
   "source": [
    "b"
   ]
  },
  {
   "cell_type": "markdown",
   "metadata": {},
   "source": [
    "#### 2.4.5　はじめてのPythonプログラミング: 電卓として使ってみよう"
   ]
  },
  {
   "cell_type": "code",
   "execution_count": null,
   "metadata": {},
   "outputs": [],
   "source": [
    "1 + 1"
   ]
  },
  {
   "cell_type": "code",
   "execution_count": null,
   "metadata": {},
   "outputs": [],
   "source": [
    "10.38 - 8.64"
   ]
  },
  {
   "cell_type": "code",
   "execution_count": null,
   "metadata": {},
   "outputs": [],
   "source": [
    "5 * 13"
   ]
  },
  {
   "cell_type": "code",
   "execution_count": null,
   "metadata": {},
   "outputs": [],
   "source": [
    "17 / 3"
   ]
  },
  {
   "cell_type": "code",
   "execution_count": null,
   "metadata": {},
   "outputs": [],
   "source": [
    "17 // 3 # 整数部のみ求める"
   ]
  },
  {
   "cell_type": "code",
   "execution_count": null,
   "metadata": {},
   "outputs": [],
   "source": [
    "5 ** 2 # べき乗"
   ]
  },
  {
   "cell_type": "code",
   "execution_count": null,
   "metadata": {},
   "outputs": [],
   "source": [
    "17 % 3 # 剰余"
   ]
  },
  {
   "cell_type": "markdown",
   "metadata": {},
   "source": [
    "### 2.5　NotebookとPythonファイル\n",
    "\n",
    "ここまでのNotebookをColabのメニューからPythonスクリプトとしてエクスポートし、手元に保存してください。\n",
    "\n",
    "### 2.6　Python言語の基礎: オブジェクト\n",
    "\n",
    "#### 2.6.1　オブジェクトの型\n",
    "\n",
    "オブジェクトの型は `type()` 関数で確認できます。以下で、オブジェクトを作成し、型を確認してください。"
   ]
  },
  {
   "cell_type": "code",
   "execution_count": null,
   "metadata": {},
   "outputs": [],
   "source": [
    "# int (整数) 型\n",
    "a = 1\n",
    "type(a)"
   ]
  },
  {
   "cell_type": "code",
   "execution_count": null,
   "metadata": {},
   "outputs": [],
   "source": [
    "# float (浮動小数点数) 型\n",
    "a = 1.0\n",
    "type(a)"
   ]
  },
  {
   "cell_type": "code",
   "execution_count": null,
   "metadata": {},
   "outputs": [],
   "source": [
    "# complex (複素数) 型\n",
    "a = 3 + 1j\n",
    "type(a)"
   ]
  },
  {
   "cell_type": "code",
   "execution_count": null,
   "metadata": {},
   "outputs": [],
   "source": [
    "# str (文字列) 型\n",
    "a = 'あ'\n",
    "type(a)"
   ]
  },
  {
   "cell_type": "code",
   "execution_count": 6,
   "metadata": {},
   "outputs": [
    {
     "name": "stdout",
     "output_type": "stream",
     "text": [
      "b'abc'\n",
      "<class 'bytes'>\n"
     ]
    }
   ],
   "source": [
    "# bytes (バイト) 型\n",
    "a = b'abc' # アルファベットのみ対応\n",
    "print(a)\n",
    "print(type(a))"
   ]
  },
  {
   "cell_type": "code",
   "execution_count": 4,
   "metadata": {},
   "outputs": [
    {
     "name": "stdout",
     "output_type": "stream",
     "text": [
      "b'\\xe6\\x97\\xa5\\xe6\\x9c\\xac\\xe8\\xaa\\x9e'\n",
      "<class 'bytes'>\n"
     ]
    }
   ],
   "source": [
    "a = '日本語'\n",
    "b = a.encode() # アルファベット以外を変換する場合\n",
    "print(b)\n",
    "print(type(b))"
   ]
  },
  {
   "cell_type": "markdown",
   "metadata": {},
   "source": [
    "#### 2.6.2　さまざまなデータ構造\n",
    "\n",
    "以下で、さまざまなデータ構造 (オブジェクト) を作成してください。\n",
    "\n",
    "#### 2.6.3　リスト\n",
    "\n",
    "リストは `[ ]` で作成できます。また、別のデータ構造を `list()` 関数で変換できます。"
   ]
  },
  {
   "cell_type": "code",
   "execution_count": 1,
   "metadata": {},
   "outputs": [
    {
     "data": {
      "text/plain": [
       "[10, 20, 30, 40, 50]"
      ]
     },
     "execution_count": 1,
     "metadata": {},
     "output_type": "execute_result"
    }
   ],
   "source": [
    "lst = [10, 20, 30, 40, 50]\n",
    "lst"
   ]
  },
  {
   "cell_type": "code",
   "execution_count": 2,
   "metadata": {},
   "outputs": [
    {
     "data": {
      "text/plain": [
       "list"
      ]
     },
     "execution_count": 2,
     "metadata": {},
     "output_type": "execute_result"
    }
   ],
   "source": [
    "type(lst)"
   ]
  },
  {
   "cell_type": "code",
   "execution_count": 3,
   "metadata": {},
   "outputs": [
    {
     "data": {
      "text/plain": [
       "10"
      ]
     },
     "execution_count": 3,
     "metadata": {},
     "output_type": "execute_result"
    }
   ],
   "source": [
    "lst[0]"
   ]
  },
  {
   "cell_type": "code",
   "execution_count": 4,
   "metadata": {},
   "outputs": [
    {
     "data": {
      "text/plain": [
       "30"
      ]
     },
     "execution_count": 4,
     "metadata": {},
     "output_type": "execute_result"
    }
   ],
   "source": [
    "lst[2]"
   ]
  },
  {
   "cell_type": "code",
   "execution_count": 5,
   "metadata": {},
   "outputs": [
    {
     "data": {
      "text/plain": [
       "50"
      ]
     },
     "execution_count": 5,
     "metadata": {},
     "output_type": "execute_result"
    }
   ],
   "source": [
    "lst[4]"
   ]
  },
  {
   "cell_type": "code",
   "execution_count": 6,
   "metadata": {},
   "outputs": [
    {
     "data": {
      "text/plain": [
       "40"
      ]
     },
     "execution_count": 6,
     "metadata": {},
     "output_type": "execute_result"
    }
   ],
   "source": [
    "lst[-2]"
   ]
  },
  {
   "cell_type": "markdown",
   "metadata": {},
   "source": [
    "#### 2.6.4　要素のスライス"
   ]
  },
  {
   "cell_type": "code",
   "execution_count": 7,
   "metadata": {},
   "outputs": [
    {
     "data": {
      "text/plain": [
       "[10, 20]"
      ]
     },
     "execution_count": 7,
     "metadata": {},
     "output_type": "execute_result"
    }
   ],
   "source": [
    "# 0番目と1番目の要素を参照する\n",
    "lst[0:2]"
   ]
  },
  {
   "cell_type": "code",
   "execution_count": 8,
   "metadata": {},
   "outputs": [
    {
     "data": {
      "text/plain": [
       "[20, 30, 40]"
      ]
     },
     "execution_count": 8,
     "metadata": {},
     "output_type": "execute_result"
    }
   ],
   "source": [
    "# 1番目から3番目の要素を参照する\n",
    "lst[1:4]"
   ]
  },
  {
   "cell_type": "code",
   "execution_count": 19,
   "metadata": {},
   "outputs": [
    {
     "data": {
      "text/plain": [
       "[30, 40, 50]"
      ]
     },
     "execution_count": 19,
     "metadata": {},
     "output_type": "execute_result"
    }
   ],
   "source": [
    "# 3番目以降の要素を参照する\n",
    "lst[2:]"
   ]
  },
  {
   "cell_type": "code",
   "execution_count": 17,
   "metadata": {},
   "outputs": [
    {
     "data": {
      "text/plain": [
       "[40, 50]"
      ]
     },
     "execution_count": 17,
     "metadata": {},
     "output_type": "execute_result"
    }
   ],
   "source": [
    "# 末尾から2つの要素を参照する\n",
    "lst[-2:]"
   ]
  },
  {
   "cell_type": "code",
   "execution_count": 21,
   "metadata": {},
   "outputs": [
    {
     "data": {
      "text/plain": [
       "[10, 30]"
      ]
     },
     "execution_count": 21,
     "metadata": {},
     "output_type": "execute_result"
    }
   ],
   "source": [
    "# 1番目と3番目の要素を参照する\n",
    "# 任意の位置の要素を参照する方法はやや複雑になる\n",
    "\n",
    "# リスト内包表記\n",
    "[lst[i] for i in [0, 2]]"
   ]
  },
  {
   "cell_type": "code",
   "execution_count": 23,
   "metadata": {},
   "outputs": [
    {
     "data": {
      "text/plain": [
       "[10, 30]"
      ]
     },
     "execution_count": 23,
     "metadata": {},
     "output_type": "execute_result"
    }
   ],
   "source": [
    "# operatorモジュールのitemgetterクラスを使う\n",
    "from operator import itemgetter\n",
    "list(itemgetter(*[0, 2])(lst))"
   ]
  },
  {
   "cell_type": "markdown",
   "metadata": {},
   "source": [
    "#### 2.6.5　ディクショナリ\n",
    "\n",
    "ディクショナリ (辞書) は `{key: value}` で作成できます。また、別のデータ構造を `dict()` 関数で変換できます。"
   ]
  },
  {
   "cell_type": "code",
   "execution_count": 24,
   "metadata": {},
   "outputs": [
    {
     "data": {
      "text/plain": [
       "{'key1': 794, 'key2': 1192, 'key3': 2021}"
      ]
     },
     "execution_count": 24,
     "metadata": {},
     "output_type": "execute_result"
    }
   ],
   "source": [
    "dic = {'key1': 794, 'key2': 1192, 'key3': 2021}\n",
    "dic"
   ]
  },
  {
   "cell_type": "code",
   "execution_count": 25,
   "metadata": {},
   "outputs": [
    {
     "data": {
      "text/plain": [
       "dict"
      ]
     },
     "execution_count": 25,
     "metadata": {},
     "output_type": "execute_result"
    }
   ],
   "source": [
    "type(dic)"
   ]
  },
  {
   "cell_type": "markdown",
   "metadata": {},
   "source": [
    "ディクショナリの要素は、キーを指定して参照します。"
   ]
  },
  {
   "cell_type": "code",
   "execution_count": 26,
   "metadata": {},
   "outputs": [
    {
     "data": {
      "text/plain": [
       "794"
      ]
     },
     "execution_count": 26,
     "metadata": {},
     "output_type": "execute_result"
    }
   ],
   "source": [
    "dic['key1']"
   ]
  },
  {
   "cell_type": "code",
   "execution_count": null,
   "metadata": {},
   "outputs": [],
   "source": [
    "dic.get('key1')"
   ]
  },
  {
   "cell_type": "code",
   "execution_count": 27,
   "metadata": {},
   "outputs": [
    {
     "data": {
      "text/plain": [
       "[794, 2021]"
      ]
     },
     "execution_count": 27,
     "metadata": {},
     "output_type": "execute_result"
    }
   ],
   "source": [
    "# 複数のキーを指定する (リスト内包表記)\n",
    "[dic.get(key) for key in ['key1', 'key3']]"
   ]
  },
  {
   "cell_type": "markdown",
   "metadata": {},
   "source": [
    "### 2.7　Python言語の基礎: 関数とメソッド\n",
    "\n",
    "#### 2.7.1　オブジェクトへの関数の適用\n",
    "\n",
    "ここまで例示したような、オブジェクトに対して `type()` 関数を適用するような例が「オブジェクトへの関数の適用」です。"
   ]
  },
  {
   "cell_type": "code",
   "execution_count": 34,
   "metadata": {},
   "outputs": [
    {
     "data": {
      "text/plain": [
       "list"
      ]
     },
     "execution_count": 34,
     "metadata": {},
     "output_type": "execute_result"
    }
   ],
   "source": [
    "# リストは異なる型の要素を混在して格納できる\n",
    "lst = [100, 198.57, 'あいうえお', b'abc']\n",
    "type(lst)"
   ]
  },
  {
   "cell_type": "code",
   "execution_count": 36,
   "metadata": {},
   "outputs": [
    {
     "data": {
      "text/plain": [
       "[int, float, str, bytes]"
      ]
     },
     "execution_count": 36,
     "metadata": {},
     "output_type": "execute_result"
    }
   ],
   "source": [
    "# オブジェクトに type() 関数、range() 関数、len() 関数を適用する\n",
    "# len() 関数は要素数を返す\n",
    "[type(lst[i]) for i in range(len(lst))]"
   ]
  },
  {
   "cell_type": "markdown",
   "metadata": {},
   "source": [
    "#### 2.7.2　関数を自作する\n",
    "\n",
    "関数はdef文で作成できます。引数を定義することもできます。ここでは、商品の税抜価格を与えると税込価格を計算する `calc_tax()` 関数を作成しています。`price` 引数に価格を、`tax` 引数に税率を指定します。デフォルト値として1.10を指定しているので、`tax` 引数については省略可能です。"
   ]
  },
  {
   "cell_type": "code",
   "execution_count": 41,
   "metadata": {},
   "outputs": [],
   "source": [
    "def calc_tax(price, tax=1.10):\n",
    "    if price is None:\n",
    "        print('商品の価格をpriceオプションで指定してください！')\n",
    "    else:\n",
    "        price_with_tax = price * tax\n",
    "        price_with_tax = int(price_with_tax) # 端数の切り捨て\n",
    "        print('税抜価格: ' + str(price) + '円')\n",
    "        print('税込価格: ' + str(price_with_tax) + '円')\n"
   ]
  },
  {
   "cell_type": "code",
   "execution_count": 42,
   "metadata": {},
   "outputs": [
    {
     "name": "stdout",
     "output_type": "stream",
     "text": [
      "税抜価格: 350円\n",
      "税込価格: 385円\n"
     ]
    }
   ],
   "source": [
    "calc_tax(350)"
   ]
  },
  {
   "cell_type": "code",
   "execution_count": 43,
   "metadata": {},
   "outputs": [
    {
     "name": "stdout",
     "output_type": "stream",
     "text": [
      "税抜価格: 500円\n",
      "税込価格: 540円\n"
     ]
    }
   ],
   "source": [
    "# 税率を指定する\n",
    "calc_tax(price=500, tax=1.08)"
   ]
  },
  {
   "cell_type": "markdown",
   "metadata": {},
   "source": [
    "実際に業務で役立つ関数を作成する場合、引数として数値を期待しているところに文字列が与えられた場合、どのように扱うかなど、入力値のチェックやエラー処理をより厳密に実装する必要があります。\n",
    "\n",
    "#### 2.7.3　オブジェクトのメソッド"
   ]
  },
  {
   "cell_type": "code",
   "execution_count": 44,
   "metadata": {},
   "outputs": [
    {
     "name": "stdout",
     "output_type": "stream",
     "text": [
      "['orange', 'apple', 'pear', 'banana', 'kiwi', 'apple', 'banana']\n",
      "['orange', 'apple', 'pear', 'banana', 'kiwi', 'apple', 'banana', 'grape']\n"
     ]
    }
   ],
   "source": [
    "fruits = ['orange', 'apple', 'pear', 'banana', 'kiwi', 'apple', 'banana']\n",
    "print(fruits)\n",
    "\n",
    "# append() メソッドは末尾に値を追加する\n",
    "fruits.append('grape')\n",
    "\n",
    "print(fruits)"
   ]
  },
  {
   "cell_type": "code",
   "execution_count": 45,
   "metadata": {},
   "outputs": [
    {
     "data": {
      "text/plain": [
       "2"
      ]
     },
     "execution_count": 45,
     "metadata": {},
     "output_type": "execute_result"
    }
   ],
   "source": [
    "# count() メソッドは引数のオブジェクト中での出現回数を返す\n",
    "fruits.count('apple')"
   ]
  },
  {
   "cell_type": "code",
   "execution_count": 46,
   "metadata": {},
   "outputs": [],
   "source": [
    "# sort() メソッドはオブジェクトを上書きで並べ替える\n",
    "fruits.sort()"
   ]
  },
  {
   "cell_type": "code",
   "execution_count": 47,
   "metadata": {},
   "outputs": [
    {
     "data": {
      "text/plain": [
       "['apple', 'apple', 'banana', 'banana', 'grape', 'kiwi', 'orange', 'pear']"
      ]
     },
     "execution_count": 47,
     "metadata": {},
     "output_type": "execute_result"
    }
   ],
   "source": [
    "fruits"
   ]
  },
  {
   "cell_type": "markdown",
   "metadata": {},
   "source": [
    "### 2.8　ライブラリを活用する\n",
    "\n",
    "#### 2.8.1　ライブラリのインストール\n",
    "\n",
    "ここでは、Pythonでグラフィックス (グラフ) を作成、表示する際に広く使われるmatplotlibライブラリにおいて、日本語の表示を容易に実現するための[japanize-matplotlib](https://pypi.org/project/japanize-matplotlib/)ライブラリを導入します。\n",
    "\n",
    "なお、`pip` コマンドはPythonの関数やメソッドではない外部コマンドであるため、Google Colabにおいては、先頭に `%` をつけて実行します。先頭の `%` は、マジックコマンドと呼ばれるいくつかの特別なコマンドを呼び出す特別な書式です。OS (シェル) のコマンドを実行したい場合は、`!` を先頭に指定します。\n",
    "\n",
    "いちどインストールしたら、その環境が保存されているので、次回以降Notebookを開いたときに再度インストールする必要はありません。"
   ]
  },
  {
   "cell_type": "code",
   "execution_count": null,
   "metadata": {},
   "outputs": [],
   "source": [
    "# グラフで日本語を簡単に扱うためのライブラリをインストールする\n",
    "% pip install japanize-matplotlib"
   ]
  },
  {
   "cell_type": "markdown",
   "metadata": {},
   "source": [
    "### 2.9　ファイルを読み込む\n",
    "\n",
    "#### 2.9.2　テキストファイルを読み込んでみよう\n",
    "\n",
    "Google Colabでこのハンズオンを実行するために、まずGoogleドライブをマウントします。そして、ハンズオン用のファイルをドライブにダウンロードします。ファイルは大きなものではありませんが、お使いのGoogleドライブの容量をご確認ください。\n",
    "\n",
    "以下のコードは、Notebookを開くたびに毎回実行する必要があります。"
   ]
  },
  {
   "cell_type": "code",
   "execution_count": null,
   "metadata": {},
   "outputs": [],
   "source": [
    "from google.colab import drive\n",
    "drive.mount('/content/drive')"
   ]
  },
  {
   "cell_type": "markdown",
   "metadata": {},
   "source": [
    "実行すると、Googleアカウントの認証メニューが表示されますので、適宜操作を行ってください。マウントされたGoogleドライブは、画面左側の📁アイコンからも確認できます。\n",
    "\n",
    "次に、Googleドライブ内に、ハンズオン用のファイルをダウンロードします。筆者のGitHubリポジトリからコピーします。以下のコマンドは、1回だけ実行すれば、以降の実行は必要ありません。"
   ]
  },
  {
   "cell_type": "code",
   "execution_count": null,
   "metadata": {},
   "outputs": [],
   "source": [
    "% git clone https://github.com/ltl-manabi/bj_zeropy.git /content/drive/MyDrive/zeropy"
   ]
  },
  {
   "cell_type": "markdown",
   "metadata": {},
   "source": [
    "実行したら、いくつかのファイルがドライブ内の `zeropy` フォルダー下に格納されているはずです。これらのファイルを読み込みます。"
   ]
  },
  {
   "cell_type": "code",
   "execution_count": null,
   "metadata": {},
   "outputs": [],
   "source": [
    "with open('/content/drive/MyDrive/zeropy/chap02/2022_tokyo_weather.csv') as f:\n",
    "    while True:\n",
    "        line = f.readline()\n",
    "        print(line.strip())\n",
    "        if not line:\n",
    "            break\n"
   ]
  },
  {
   "cell_type": "markdown",
   "metadata": {},
   "source": [
    "続いて、Pandasライブラリを使って読み込みます。Pandasは表構造のデータをデータフレームという構造で扱う機能を提供します。"
   ]
  },
  {
   "cell_type": "code",
   "execution_count": null,
   "metadata": {},
   "outputs": [],
   "source": [
    "import pandas as pd # Pandasライブラリを読み込み、pdという短縮名でアクセス可能にする\n",
    "\n",
    "df = pd.read_csv('/content/drive/MyDrive/zeropy/chap02/2022_tokyo_weather.csv')\n",
    "df.head(10)"
   ]
  },
  {
   "cell_type": "markdown",
   "metadata": {},
   "source": [
    "データフレームは、後述するような、データ操作を容易に行う機能も提供しており、表構造データを扱ううえでのデファクトスタンダードになっています。\n",
    "\n",
    "#### 2.9.3　Excelファイルを読み込んでみよう\n",
    "\n",
    "続いて、Microsoft Excel形式のファイルをPandasで読み込みます。Pandasの `read_excel()` 関数で簡単にシートやセル範囲を指定して読み込むことができます。引数には、ネットワーク上のファイルも指定できます。\n",
    "\n",
    "ここでは、総務省統計局が統計教育のために公開している[SSDSE (教育用標準データセット)](https://www.nstac.go.jp/use/literacy/ssdse/) を読み込みます。"
   ]
  },
  {
   "cell_type": "code",
   "execution_count": null,
   "metadata": {},
   "outputs": [],
   "source": [
    "df = pd.read_excel('https://www.nstac.go.jp/sys/files/SSDSE-E-2022.xlsx', usecols='B:CN', skiprows=2)\n",
    "df.head(10)"
   ]
  },
  {
   "cell_type": "markdown",
   "metadata": {},
   "source": [
    "`read_excel()` 関数では、`usecols` オプションで読み込む列の指定や、`skiprows` オプションで先頭から読み飛ばす行数の指定ができます。その他にも多様なオプションが指定可能です。詳しくは[関数のヘルプ](https://pandas.pydata.org/docs/reference/api/pandas.read_excel.html)を参照してください。\n",
    "\n",
    "#### 2.9.4　Pandasデータフレームの操作\n",
    "\n",
    "Pandasでは、条件を指定してのデータの抽出や、さまざまな軸での集計などを容易に実現するための機能が提供されています。ここでは、その一部を紹介します。\n",
    "\n",
    "まず、データの抽出を行います。データの先頭から10行を抽出するには、`head()` メソッドや `filter()` メソッドを使います。"
   ]
  },
  {
   "cell_type": "code",
   "execution_count": null,
   "metadata": {},
   "outputs": [],
   "source": [
    "df.head(10)"
   ]
  },
  {
   "cell_type": "code",
   "execution_count": null,
   "metadata": {},
   "outputs": [],
   "source": [
    "df.filter(items=range(10), axis=0) # axis = 0 は行方向"
   ]
  },
  {
   "cell_type": "markdown",
   "metadata": {},
   "source": [
    "次に、条件を指定して抽出します。ここでは、列名に「人口」を含む列を選択しています。`regex` は正規表現を指定するオプションです。"
   ]
  },
  {
   "cell_type": "code",
   "execution_count": null,
   "metadata": {},
   "outputs": [],
   "source": [
    "df.filter(regex='.*人口')"
   ]
  },
  {
   "cell_type": "markdown",
   "metadata": {},
   "source": [
    "次に列の値を集計してみましょう。`sum()` メソッドは、ExcelのSUM関数と同様、対象のデータを合計します。ここでは、各都道府県の総人口を合計しています。"
   ]
  },
  {
   "cell_type": "code",
   "execution_count": null,
   "metadata": {},
   "outputs": [],
   "source": [
    "df.iloc[1:48, 1].sum()"
   ]
  },
  {
   "cell_type": "markdown",
   "metadata": {},
   "source": [
    "この結果は、もちろん日本の総人口と一致します。"
   ]
  },
  {
   "cell_type": "code",
   "execution_count": null,
   "metadata": {},
   "outputs": [],
   "source": [
    "df.filter(items='総人口')"
   ]
  },
  {
   "cell_type": "markdown",
   "metadata": {},
   "source": [
    "次に、「1人当たり県民所得」の平均を求めてみましょう。`mean()` メソッドを使います。"
   ]
  },
  {
   "cell_type": "code",
   "execution_count": null,
   "metadata": {},
   "outputs": [],
   "source": [
    "df.loc[1:48, '1人当たり県民所得（平成23年基準）'].mean()"
   ]
  },
  {
   "cell_type": "markdown",
   "metadata": {},
   "source": [
    "この列の単位は千円なので、所得の平均は298万2千円ほどになります。\n",
    "\n",
    "### 2.10　複数のデータ・ファイルを順に処理する\n",
    "\n",
    "#### 2.10.1　ファイルパスをまとめて取得する\n",
    "\n",
    "特定のフォルダー (ディレクトリー) 以下にあるファイルをまとめて処理したいことがあります。その場合、まず対象となるファイルの一覧・場所 (パス) を取得する必要があります。Pythonでは、標準のpathlibライブラリを使い、OSに依存しないファイルパスの取り扱いが可能です。"
   ]
  },
  {
   "cell_type": "code",
   "execution_count": null,
   "metadata": {},
   "outputs": [],
   "source": [
    "from pathlib import Path\n",
    "p = Path('/content/drive/zeropy/chap02/txt') # ディレクトリを指定\n",
    "file_list = list(p.glob('**/*.txt')) # ファイル一覧を取得\n",
    "\n",
    "[str(file) for file in file_list] # ファイル一覧を文字列として出力"
   ]
  },
  {
   "cell_type": "markdown",
   "metadata": {},
   "source": [
    "ここでは、リスト内包表記という書式で、繰り返し処理を簡潔に記述しています。繰り返し処理については後述しています。データは、GitHubに公開されている、[所信表明演説コーパス](https://github.com/yuukimiyo/GeneralPolicySpeechOfPrimeMinisterOfJapan)を使用しています。\n",
    "\n",
    "#### 2.10.2　for文による繰り返し処理\n",
    "\n",
    "対象となるファイルの一覧を取得したら、順に処理を適用していきます。Pythonには、繰り返し (ループ) 処理のための制御構造が用意されています。ここでは、広く使われるfor文の例を紹介します。"
   ]
  },
  {
   "cell_type": "code",
   "execution_count": null,
   "metadata": {},
   "outputs": [],
   "source": [
    "for file_name in file_list:\n",
    "    print('処理対象のファイル: ' + str(file_name))\n"
   ]
  },
  {
   "cell_type": "markdown",
   "metadata": {},
   "source": [
    "上記の例では、リスト `file_list` の要素が1つずつ変数 `file_name` に代入され、ループの中で使用されます。1周の処理が終わると、次の要素が `file_name` に代入され、また処理が繰り返されます。"
   ]
  },
  {
   "cell_type": "code",
   "execution_count": null,
   "metadata": {},
   "outputs": [],
   "source": [
    "for num in range(1, 11): # range(開始値, 終了値+1)\n",
    "    print('現在' + str(num) + '周目です')\n"
   ]
  },
  {
   "cell_type": "markdown",
   "metadata": {},
   "source": [
    "次の例では、`range()` 関数で生成した1から10までの連番が順に `num` 変数に入り、処理されます。`range()` 関数は、引数に指定した開始値と終了値 (実際に得たい最大の値+1) の間で、連続した整数列を生成します。また、3つ目の引数に間隔 (ステップ) を指定することもできます。"
   ]
  },
  {
   "cell_type": "code",
   "execution_count": null,
   "metadata": {},
   "outputs": [],
   "source": [
    "for num in range(1, 21, 2): # range(開始値, 終了値+1, ステップ)\n",
    "    print('現在' + str(num) + '周目です')\n"
   ]
  },
  {
   "cell_type": "markdown",
   "metadata": {},
   "source": [
    "Pythonでは、タブや半角スペースによるインデントが厳密に評価されます。`print()` 関数の前のインデントは必須です。また、for文の外の、次の処理との区切りは空行を挟みます。\n",
    "\n",
    "#### 2.10.3　if文による条件分岐\n",
    "\n",
    "処理対象のファイルなどが、ある条件に一致するときだけ処理を適用したい場合があります。そのような場合、if文を使うことで柔軟な条件分岐を指定できます。if文では、条件に合致した場合の処理のみ定義するパターン、条件に合致しない場合の処理も定義するパターン、そして、複数の条件ごとに処理を定義するパターンが実装できます。以下で、それぞれの例を示します。"
   ]
  },
  {
   "cell_type": "code",
   "execution_count": null,
   "metadata": {},
   "outputs": [],
   "source": [
    "# 条件に合致した場合の処理のみ定義する\n",
    "import random # 標準ライブラリのrandomモジュール\n",
    "num = random.randint(1, 20) # 1以上20以下の範囲の乱数を生成\n",
    "\n",
    "if num % 2 == 0:\n",
    "    print(str(num) + 'は偶数です。')"
   ]
  },
  {
   "cell_type": "code",
   "execution_count": null,
   "metadata": {},
   "outputs": [],
   "source": [
    "# 条件に合致しない場合の処理も定義するパターン\n",
    "num = random.randint(1, 20) # 1以上20以下の範囲の乱数を生成\n",
    "\n",
    "if num % 2 == 0:\n",
    "    print(str(num) + 'は偶数です。')\n",
    "else:\n",
    "    print(str(num) + 'は奇数です。')"
   ]
  },
  {
   "cell_type": "code",
   "execution_count": null,
   "metadata": {},
   "outputs": [],
   "source": [
    "# 複数の条件ごとに処理を定義するパターン\n",
    "num = random.randint(1, 20) # 1以上20以下の範囲の乱数を生成\n",
    "if (num % 2 == 0) & (num < 10):\n",
    "    print(str(num) + 'は10未満の偶数です')\n",
    "elif (num % 2 == 0) & (num >= 10):\n",
    "    print(str(num) + 'は10以上の偶数です')\n",
    "elif (num % 2 != 0) & (num < 10):\n",
    "    print(str(num) + 'は10未満の奇数です')\n",
    "else:\n",
    "    print(str(num) + 'は10以上の奇数です')\n"
   ]
  }
 ],
 "metadata": {
  "kernelspec": {
   "display_name": "Python 3.9.7 64-bit",
   "language": "python",
   "name": "python3"
  },
  "language_info": {
   "codemirror_mode": {
    "name": "ipython",
    "version": 3
   },
   "file_extension": ".py",
   "mimetype": "text/x-python",
   "name": "python",
   "nbconvert_exporter": "python",
   "pygments_lexer": "ipython3",
   "version": "3.9.7"
  },
  "orig_nbformat": 4,
  "vscode": {
   "interpreter": {
    "hash": "f9f85f796d01129d0dd105a088854619f454435301f6ffec2fea96ecbd9be4ac"
   }
  }
 },
 "nbformat": 4,
 "nbformat_minor": 2
}
